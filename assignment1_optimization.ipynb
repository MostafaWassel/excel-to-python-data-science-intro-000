{
  "nbformat": 4,
  "nbformat_minor": 0,
  "metadata": {
    "colab": {
      "name": "assignment1-optimization.ipynb",
      "provenance": [],
      "collapsed_sections": [],
      "include_colab_link": true
    },
    "kernelspec": {
      "name": "python3",
      "display_name": "Python 3"
    }
  },
  "cells": [
    {
      "cell_type": "markdown",
      "metadata": {
        "id": "view-in-github",
        "colab_type": "text"
      },
      "source": [
        "<a href=\"https://colab.research.google.com/github/MostafaWassel/excel-to-python-data-science-intro-000/blob/master/assignment1_optimization.ipynb\" target=\"_parent\"><img src=\"https://colab.research.google.com/assets/colab-badge.svg\" alt=\"Open In Colab\"/></a>"
      ]
    },
    {
      "cell_type": "markdown",
      "metadata": {
        "id": "sBYm0xBsIfzc",
        "colab_type": "text"
      },
      "source": [
        "\n",
        "\n",
        "1.   Newton method\n",
        "\n"
      ]
    },
    {
      "cell_type": "code",
      "metadata": {
        "id": "81RvMQCgRLpB",
        "colab_type": "code",
        "colab": {
          "base_uri": "https://localhost:8080/",
          "height": 67
        },
        "outputId": "98389a46-00b6-42e4-f79b-a66075a2a397"
      },
      "source": [
        "import math\n",
        "def Newton(f, dfdx, x, eps):\n",
        "    f_value = f(x)\n",
        "    iteration_counter = 0\n",
        "\n",
        "    while abs(f_value) > eps and iteration_counter < 100:\n",
        "        try:\n",
        "            x = x - float(f_value)/float(dfdx(x))\n",
        "        except ZeroDivisionError:\n",
        "            print (\"Error! - derivative zero for x = \", x)\n",
        "            sys.exit(1)     # Abort with error\n",
        "\n",
        "        f_value = f(x)\n",
        "        iteration_counter += 1\n",
        "\n",
        "\n",
        "    if abs(f_value) > eps:\n",
        "        iteration_counter = -5\n",
        "    return x, iteration_counter\n",
        "\n",
        "def f(x):\n",
        "    return 2*math.sin(x) - 0.1*(math.pow(x, 2))\n",
        "\n",
        "def dfdx(x):\n",
        "    return (2*math.cos(x)) - (0.2*x)\n",
        "\n",
        "solution, no_iterations = Newton(f, dfdx, x=2.5, eps=0.01)\n",
        "\n",
        "if no_iterations > 0:    # Solution found\n",
        "    print (\"Number of iterations made: %d\" % (1 + 2*no_iterations))\n",
        "    print ('A solution is: ',solution)\n",
        "else:\n",
        "    print (\"Solution not found!\")\n"
      ],
      "execution_count": 37,
      "outputs": [
        {
          "output_type": "stream",
          "text": [
            "Number of iterations made: 5\n",
            "A solution is:  2.7530171518439572\n",
            "ERROR! Session/line number was not unique in database. History logging moved to new session 68\n"
          ],
          "name": "stdout"
        }
      ]
    },
    {
      "cell_type": "code",
      "metadata": {
        "id": "HdI-O9oySXUw",
        "colab_type": "code",
        "colab": {
          "base_uri": "https://localhost:8080/",
          "height": 34
        },
        "outputId": "8e4e5b64-7b9b-47c6-b187-1262ea811fff"
      },
      "source": [
        "from math import sqrt\n",
        "phi = (1 + sqrt(5))/2\n",
        "resphi = 2 - phi\n",
        "\n",
        "\n",
        "\n",
        "def goldenSectionSearch(f, a, c, b, absolutePrecision):\n",
        "    if abs(a - b) < absolutePrecision: \n",
        "        return (a + b)/2\n",
        "    # Create a new possible center, in the area between c and b, pushed against c\n",
        "    d = c + resphi*(b - c)\n",
        "    if f(d) < f(c):\n",
        "        return goldenSectionSearch(f, c, d, b, absolutePrecision)\n",
        "    else:\n",
        "        return goldenSectionSearch(f, d, c, a, absolutePrecision)\n",
        "\n",
        "f = lambda x: (2*(math.sin(x))) - 0.1*(math.pow(x, 2))\n",
        "\n",
        "x=goldenSectionSearch(f,0.0,2.0,4.0,0.1)\n"
      ],
      "execution_count": 62,
      "outputs": [
        {
          "output_type": "stream",
          "text": [
            "3.965558146251367\n"
          ],
          "name": "stdout"
        }
      ]
    }
  ]
}